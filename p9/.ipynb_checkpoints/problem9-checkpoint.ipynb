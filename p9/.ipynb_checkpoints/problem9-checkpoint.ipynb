{
 "metadata": {
  "name": "",
  "signature": "sha256:048f63ebac70dcb5d561fa1b99e4784d492249d355d7be5e977cb4dce8bb60a2"
 },
 "nbformat": 3,
 "nbformat_minor": 0,
 "worksheets": []
}