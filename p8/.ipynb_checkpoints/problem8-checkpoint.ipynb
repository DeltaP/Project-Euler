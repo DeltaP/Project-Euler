{
 "metadata": {
  "name": "",
  "signature": "sha256:280dca27449a792944d6ac3186cf0ebab64b7d976907a32cdce40fe705d588eb"
 },
 "nbformat": 3,
 "nbformat_minor": 0,
 "worksheets": [
  {
   "cells": [
    {
     "cell_type": "code",
     "collapsed": false,
     "input": [
      "import time"
     ],
     "language": "python",
     "metadata": {},
     "outputs": []
    },
    {
     "cell_type": "code",
     "collapsed": false,
     "input": [
      "n_string = \"73167176531330624919225119674426574742355349194934\\\n",
      "96983520312774506326239578318016984801869478851843\\\n",
      "85861560789112949495459501737958331952853208805511\\\n",
      "12540698747158523863050715693290963295227443043557\\\n",
      "66896648950445244523161731856403098711121722383113\\\n",
      "62229893423380308135336276614282806444486645238749\\\n",
      "30358907296290491560440772390713810515859307960866\\\n",
      "70172427121883998797908792274921901699720888093776\\\n",
      "65727333001053367881220235421809751254540594752243\\\n",
      "52584907711670556013604839586446706324415722155397\\\n",
      "53697817977846174064955149290862569321978468622482\\\n",
      "83972241375657056057490261407972968652414535100474\\\n",
      "82166370484403199890008895243450658541227588666881\\\n",
      "16427171479924442928230863465674813919123162824586\\\n",
      "17866458359124566529476545682848912883142607690042\\\n",
      "24219022671055626321111109370544217506941658960408\\\n",
      "07198403850962455444362981230987879927244284909188\\\n",
      "84580156166097919133875499200524063689912560717606\\\n",
      "05886116467109405077541002256983155200055935729725\\\n",
      "71636269561882670428252483600823257530420752963450\"\n",
      "n_int = map(int, list(n_string))"
     ],
     "language": "python",
     "metadata": {},
     "outputs": [],
     "prompt_number": 79
    },
    {
     "cell_type": "code",
     "collapsed": false,
     "input": [
      "def max_product(l):\n",
      "    f_index = 0\n",
      "    max_product = 0\n",
      "    for i in l:\n",
      "        l_index = f_index + 13\n",
      "        f_index += 1\n",
      "        product = i\n",
      "        if l_index > (len(number_string) - 13):\n",
      "            return max_product\n",
      "        for j in xrange(f_index, l_index):\n",
      "            product *= l[j]\n",
      "        if product > max_product:\n",
      "            max_product = product\n",
      "    return max_product\n",
      "        "
     ],
     "language": "python",
     "metadata": {},
     "outputs": [],
     "prompt_number": 9
    },
    {
     "cell_type": "code",
     "collapsed": false,
     "input": [
      "import sys\n",
      "sys.setrecursionlimit(10000)\n",
      "\n",
      "def r_max_product(n_list, max_prod):\n",
      "    if len(n_list) <= 12:\n",
      "        return max_prod\n",
      "    product = n_list.pop(0)\n",
      "    for i in xrange(0, 12):\n",
      "        product *= n_list[i]\n",
      "    if product > max_prod:\n",
      "        max_prod = product\n",
      "        print max_prod\n",
      "    r_max_product(n_list, max_prod)"
     ],
     "language": "python",
     "metadata": {},
     "outputs": [],
     "prompt_number": 123
    },
    {
     "cell_type": "code",
     "collapsed": false,
     "input": [],
     "language": "python",
     "metadata": {},
     "outputs": []
    },
    {
     "cell_type": "code",
     "collapsed": false,
     "input": [
      "max_product(n_int)"
     ],
     "language": "python",
     "metadata": {},
     "outputs": [
      {
       "metadata": {},
       "output_type": "pyout",
       "prompt_number": 82,
       "text": [
        "23514624000"
       ]
      }
     ],
     "prompt_number": 82
    },
    {
     "cell_type": "code",
     "collapsed": false,
     "input": [
      "var = list(n_int)\n",
      "m = r_max_product(var, 0)"
     ],
     "language": "python",
     "metadata": {},
     "outputs": [
      {
       "output_type": "stream",
       "stream": "stdout",
       "text": [
        "5000940\n",
        "9797760\n",
        "13063680\n",
        "25401600\n",
        "50803200\n",
        "71124480\n",
        "284497920\n",
        "568995840\n",
        "1020366720\n",
        "1632586752\n",
        "2040733440\n",
        "2972712960\n",
        "6270566400\n",
        "14108774400\n",
        "23514624000\n"
       ]
      }
     ],
     "prompt_number": 124
    },
    {
     "cell_type": "code",
     "collapsed": false,
     "input": [
      "print m"
     ],
     "language": "python",
     "metadata": {},
     "outputs": [
      {
       "output_type": "stream",
       "stream": "stdout",
       "text": [
        "None\n"
       ]
      }
     ],
     "prompt_number": 116
    },
    {
     "cell_type": "code",
     "collapsed": false,
     "input": [],
     "language": "python",
     "metadata": {},
     "outputs": []
    }
   ],
   "metadata": {}
  }
 ]
}