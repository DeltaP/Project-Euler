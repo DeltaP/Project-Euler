{
 "metadata": {
  "name": "",
  "signature": "sha256:43e84dfa9a2fe391728f85b42eeba906939cb493d30997fe18c8ee758b6229fd"
 },
 "nbformat": 3,
 "nbformat_minor": 0,
 "worksheets": [
  {
   "cells": [
    {
     "cell_type": "code",
     "collapsed": false,
     "input": [
      "n_str = str(pow(2,1000))\n",
      "total = 0\n",
      "for c in n_str:\n",
      "    total += int(c)\n",
      "print \"The answer is: %i\"% total"
     ],
     "language": "python",
     "metadata": {},
     "outputs": [
      {
       "output_type": "stream",
       "stream": "stdout",
       "text": [
        "The answer is: 1366\n"
       ]
      }
     ],
     "prompt_number": 3
    },
    {
     "cell_type": "code",
     "collapsed": false,
     "input": [],
     "language": "python",
     "metadata": {},
     "outputs": []
    }
   ],
   "metadata": {}
  }
 ]
}