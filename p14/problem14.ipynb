{
 "metadata": {
  "name": "",
  "signature": "sha256:b22b46a2870d9deb84d7c4645bb9616d204e29052098e47265b35edc3c19a574"
 },
 "nbformat": 3,
 "nbformat_minor": 0,
 "worksheets": [
  {
   "cells": [
    {
     "cell_type": "code",
     "collapsed": false,
     "input": [
      "import time"
     ],
     "language": "python",
     "metadata": {},
     "outputs": [],
     "prompt_number": 12
    },
    {
     "cell_type": "code",
     "collapsed": false,
     "input": [
      "def even(n):\n",
      "    return n/2\n",
      "def odd(n):\n",
      "    return 3*n + 1\n",
      "def collatz(n,count):\n",
      "    if n == 1:\n",
      "        count += 1\n",
      "        return count\n",
      "    elif n % 2 == 0:\n",
      "        count += 1\n",
      "        return collatz(even(n),count)\n",
      "    else:\n",
      "        count += 1\n",
      "        return collatz(odd(n),count)\n",
      "# use a look up dictionary to avoid recalculating same number...\n",
      "def collatz_v2(n,count,dic):\n",
      "    if n == 1:\n",
      "        count += 1\n",
      "        return count\n",
      "    elif n in dic.keys():\n",
      "        count += dic[n]\n",
      "        return count\n",
      "    elif n % 2 == 0:\n",
      "        dic[i] = chain\n",
      "        count += 1\n",
      "        return collatz_v2(even(n),count,dic)\n",
      "    else:\n",
      "        count += 1\n",
      "        dic[i] = chain\n",
      "        return collatz_v2(odd(n),count,dic)"
     ],
     "language": "python",
     "metadata": {},
     "outputs": [],
     "prompt_number": 31
    },
    {
     "cell_type": "code",
     "collapsed": false,
     "input": [
      "l = range(1,1000)\n",
      "\n",
      "t0 = time.time()\n",
      "\n",
      "max_chain = 0\n",
      "for i in l:\n",
      "    chain = collatz(i,0)\n",
      "    if chain > max_chain:\n",
      "        max_chain = chain\n",
      "        answer = i\n",
      "print \"And the answer is %i with a chain of length %i\" % (answer, max_chain)\n",
      "\n",
      "t1 = time.time()\n",
      "print \"Time:  %s\" % str(t1-t0)"
     ],
     "language": "python",
     "metadata": {},
     "outputs": [
      {
       "output_type": "stream",
       "stream": "stdout",
       "text": [
        "And the answer is 871 with a chain of length 179\n",
        "Time:  0.067430973053\n"
       ]
      }
     ],
     "prompt_number": 29
    },
    {
     "cell_type": "code",
     "collapsed": false,
     "input": [
      "l = range(1,1000)\n",
      "dic = {}\n",
      "\n",
      "t0 = time.time()\n",
      "\n",
      "max_chain = 0\n",
      "for i in l:\n",
      "    chain = collatz_v2(i,0,dic)\n",
      "    dic[i] = chain\n",
      "    if chain > max_chain:\n",
      "        max_chain = chain\n",
      "        answer = i\n",
      "print \"And the answer is %i with a chain of length %i\" % (answer, max_chain)\n",
      "\n",
      "t1 = time.time()\n",
      "print \"Time:  %s\" % str(t1-t0)"
     ],
     "language": "python",
     "metadata": {},
     "outputs": [
      {
       "output_type": "stream",
       "stream": "stdout",
       "text": [
        "And the answer is 871 with a chain of length 179\n",
        "Time:  0.15663599968\n"
       ]
      }
     ],
     "prompt_number": 34
    },
    {
     "cell_type": "code",
     "collapsed": false,
     "input": [],
     "language": "python",
     "metadata": {},
     "outputs": [],
     "prompt_number": 33
    },
    {
     "cell_type": "code",
     "collapsed": false,
     "input": [],
     "language": "python",
     "metadata": {},
     "outputs": []
    }
   ],
   "metadata": {}
  }
 ]
}